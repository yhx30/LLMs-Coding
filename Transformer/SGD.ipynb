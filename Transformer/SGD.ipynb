{
 "cells": [
  {
   "cell_type": "code",
   "execution_count": 36,
   "metadata": {},
   "outputs": [],
   "source": [
    "from sklearn.datasets import fetch_california_housing\n",
    "from sklearn.model_selection import train_test_split\n",
    "import ssl\n",
    "import pandas as pd\n",
    "import numpy as np\n",
    "from tqdm import tqdm\n",
    "import matplotlib.pyplot as plt\n",
    "\n",
    "# 创建一个不验证证书的 SSL 上下文\n",
    "ssl._create_default_https_context = ssl._create_unverified_context"
   ]
  },
  {
   "attachments": {},
   "cell_type": "markdown",
   "metadata": {},
   "source": [
    "<img src=\"./images/SGD.png\" alt=\"示例图片\" width=\"1100\">"
   ]
  },
  {
   "cell_type": "code",
   "execution_count": 10,
   "metadata": {},
   "outputs": [
    {
     "data": {
      "text/plain": [
       "((20640, 8), (20640,))"
      ]
     },
     "execution_count": 10,
     "metadata": {},
     "output_type": "execute_result"
    }
   ],
   "source": [
    "X, Y = fetch_california_housing(return_X_y=True)\n",
    "X.shape, Y.shape"
   ]
  },
  {
   "cell_type": "code",
   "execution_count": 14,
   "metadata": {},
   "outputs": [
    {
     "name": "stdout",
     "output_type": "stream",
     "text": [
      "   Feature_0  Feature_1  Feature_2  Feature_3  Feature_4  Feature_5  \\\n",
      "0     8.3252       41.0   6.984127   1.023810      322.0   2.555556   \n",
      "1     8.3014       21.0   6.238137   0.971880     2401.0   2.109842   \n",
      "2     7.2574       52.0   8.288136   1.073446      496.0   2.802260   \n",
      "3     5.6431       52.0   5.817352   1.073059      558.0   2.547945   \n",
      "4     3.8462       52.0   6.281853   1.081081      565.0   2.181467   \n",
      "5     4.0368       52.0   4.761658   1.103627      413.0   2.139896   \n",
      "6     3.6591       52.0   4.931907   0.951362     1094.0   2.128405   \n",
      "7     3.1200       52.0   4.797527   1.061824     1157.0   1.788253   \n",
      "8     2.0804       42.0   4.294118   1.117647     1206.0   2.026891   \n",
      "9     3.6912       52.0   4.970588   0.990196     1551.0   2.172269   \n",
      "\n",
      "   Feature_6  Feature_7  Target  \n",
      "0      37.88    -122.23   4.526  \n",
      "1      37.86    -122.22   3.585  \n",
      "2      37.85    -122.24   3.521  \n",
      "3      37.85    -122.25   3.413  \n",
      "4      37.85    -122.25   3.422  \n",
      "5      37.85    -122.25   2.697  \n",
      "6      37.84    -122.25   2.992  \n",
      "7      37.84    -122.25   2.414  \n",
      "8      37.84    -122.26   2.267  \n",
      "9      37.84    -122.25   2.611  \n"
     ]
    }
   ],
   "source": [
    "# 将 X 和 Y 合并到一个 DataFrame 中\n",
    "# X 是一个二维数组，Y 是一个一维数组，因此我们需要将 Y 转换成一个列\n",
    "df = pd.DataFrame(X[:10], columns=[f'Feature_{i}' for i in range(X[:10].shape[1])])\n",
    "\n",
    "# 将 Y 加入到 DataFrame 中作为一个新列\n",
    "df['Target'] = Y[:10]\n",
    "\n",
    "# 打印前10行数据\n",
    "print(df)"
   ]
  },
  {
   "cell_type": "code",
   "execution_count": 48,
   "metadata": {},
   "outputs": [],
   "source": [
    "# 数据预处理\n",
    "ones = np.ones(shape=(X.shape[0], 1)) # 创建全为1的列:\n",
    "X = np.hstack([X, ones]) # np.hstack 用于按水平方向（即列方向）将 ones 数组添加到 X 的最后一列。\n",
    "# 这里给数据矩阵 X 加了一个全 1 的列，用于表示偏置项。\n",
    "validate_size = 0.2\n",
    "X_train, X_test, Y_train, Y_test = train_test_split(X, Y, test_size=validate_size, shuffle=True)\n",
    "\n",
    "# batch 函数\n",
    "def get_batch(batchsize: int, X: np.ndarray, Y: np.ndarray):\n",
    "    assert 0 == X.shape[0] % batchsize, f'{X.shape[0]} % {batchsize} != 0'\n",
    "    batchnum = X.shape[0] // batchsize\n",
    "    \n",
    "    X_new = X.reshape((batchnum, batchsize, X.shape[1]))\n",
    "    Y_new = Y.reshape((batchnum, batchsize, )) # [batch_num, batch_size]\n",
    "    \n",
    "    for i in range(batchnum):\n",
    "        yield X_new[i, :, :], Y_new[i, :]\n",
    "        # yield 是一个用于生成器的关键字，它让函数返回一个值，同时保留当前的执行状态。每次调用生成器函数时，执行将从上次停止的地方继续。\n",
    "        # yield 语句让函数变成生成器，它允许你在一次迭代中逐步返回多个值，而不是一次性返回所有值。\n",
    "        '''\n",
    "        def f():\n",
    "            for i in range(10):\n",
    "                return i\n",
    "        def y():\n",
    "            for i in range(10):\n",
    "                yield i\n",
    "        gen = y()\n",
    "        for i in range(10):\n",
    "            print(f(), gen, next(gen))  # 获取y生成器的下一个值\n",
    "            \n",
    "        0 <generator object y at 0x128904c70> 0\n",
    "        0 <generator object y at 0x128904c70> 1\n",
    "        0 <generator object y at 0x128904c70> 2\n",
    "        0 <generator object y at 0x128904c70> 3\n",
    "        0 <generator object y at 0x128904c70> 4\n",
    "        0 <generator object y at 0x128904c70> 5\n",
    "        0 <generator object y at 0x128904c70> 6\n",
    "        0 <generator object y at 0x128904c70> 7\n",
    "        0 <generator object y at 0x128904c70> 8\n",
    "        0 <generator object y at 0x128904c70> 9\n",
    "        '''\n",
    "\n",
    "# 损失函数\n",
    "def mse(X: np.ndarray, Y: np.ndarray, W: np.ndarray):\n",
    "    return 0.5 * np.mean(np.square(X @ W - Y))\n",
    "    # @ == .dot() == .matmul() 矩阵乘法 numpy / tensor / matrix\n",
    "    # * 对应元素相乘 (Hadamard 积)\n",
    "\n",
    "# MSE 损失函数对权重 W 的梯度\n",
    "def diff_mse(X: np.ndarray, Y: np.ndarray, W: np.ndarray):\n",
    "    return X.T @ (X @ W - Y) / X.shape[0]\n",
    "\n",
    "def plot_loss(loss_train: np.ndarray, loss_validate: np.ndarray, validate_every: int):\n",
    "    \"\"\"\n",
    "    绘制训练损失和验证损失随训练过程的变化。\n",
    "    \n",
    "    参数：\n",
    "    - loss_train: 训练过程中的训练损失 (一个 numpy 数组，长度为训练周期数)\n",
    "    - loss_validate: 验证损失 (一个 numpy 数组，长度为验证周期数)\n",
    "    - validate_every: 每多少个训练周期进行一次验证\n",
    "    \"\"\"\n",
    "    \n",
    "    # 计算训练周期的数量\n",
    "    epochs = np.arange(1, len(loss_train) + 1)\n",
    "\n",
    "    # 绘制训练损失\n",
    "    plt.plot(epochs, loss_train, label=\"Training Loss\", color=\"blue\", linestyle=\"-\", linewidth=2)\n",
    "\n",
    "    # 绘制验证损失\n",
    "    validate_epochs = np.arange(validate_every, len(loss_train) + 1, validate_every)\n",
    "    plt.plot(validate_epochs, loss_validate, label=\"Validation Loss\", color=\"red\", linestyle=\"--\", linewidth=2)\n",
    "\n",
    "    # 添加标题和标签\n",
    "    plt.title(\"Training and Validation Loss\")\n",
    "    plt.xlabel(\"Epochs\")\n",
    "    plt.ylabel(\"Loss\")\n",
    "    plt.legend()\n",
    "\n",
    "    # 显示图形\n",
    "    plt.grid(True)\n",
    "    plt.show()"
   ]
  },
  {
   "cell_type": "code",
   "execution_count": 63,
   "metadata": {},
   "outputs": [],
   "source": [
    "# 模型训练\n",
    "lr = 0.001\n",
    "num_epochs = 1000\n",
    "batch_size = 64\n",
    "validate_every = 100\n",
    "grad_clip_value = 1.0  # 梯度裁剪的最大值, 缓解梯度爆炸\n",
    "\n",
    "def train(num_epochs: int, batch_size: int, validate_every: int, W0: np.ndarray, \n",
    "          X_train: np.ndarray, Y_train: np.ndarray, X_test: np.ndarray, Y_test: np.ndarray):\n",
    "    loop = tqdm(range(num_epochs))\n",
    "    loss_train = []\n",
    "    loss_validate = []\n",
    "    W = W0\n",
    "    for epoch in loop:\n",
    "        loss_train_epoch = 0\n",
    "        for x_batch, y_batch in get_batch(64, X_train, Y_train): # [batch_num, batch_size, num_features]\n",
    "            # x_batch: [batch_size, num_features]\n",
    "            loss_batch = mse(X=x_batch, Y=y_batch, W=W)\n",
    "            loss_train_epoch += loss_batch * x_batch.shape[0] / X_train.shape[0]\n",
    "            grad = diff_mse(X=x_batch, Y=y_batch, W=W)\n",
    "            # 梯度裁剪：确保梯度在 [-grad_clip_value, grad_clip_value] 范围内, 缓解梯度爆炸\n",
    "            grad = np.clip(grad, -grad_clip_value, grad_clip_value)\n",
    "            W = W - lr * grad\n",
    "            \n",
    "        loss_train.append(loss_train_epoch)\n",
    "        loop.set_description(f'epoch: {epoch}, loss: {loss_train_epoch}')\n",
    "        # set_description 是 tqdm 库提供的方法，用来设置进度条的描述文本。\n",
    "        # 这个描述文本会显示在进度条的左侧。每次调用 set_description，它都会更新进度条的描述内容。\n",
    "        \n",
    "        if 0 == epoch % validate_every:\n",
    "            loss_validate_epoch = mse(X=X_test, Y=Y_test, W=W)\n",
    "            loss_validate.append(loss_validate_epoch)\n",
    "            print('=========================Validate=========================')\n",
    "            print(f'Epoch: {epoch}, train_loss: {loss_train_epoch}, val_loss: {loss_validate_epoch}')\n",
    "            print(\"'=========================================================\")\n",
    "    \n",
    "    plot_loss(np.array(loss_train), np.array(loss_validate), validate_every)"
   ]
  },
  {
   "cell_type": "code",
   "execution_count": 64,
   "metadata": {},
   "outputs": [
    {
     "name": "stderr",
     "output_type": "stream",
     "text": [
      "epoch: 0, loss: 1558.5595832405343:   0%|          | 0/1000 [00:00<?, ?it/s]"
     ]
    },
    {
     "name": "stderr",
     "output_type": "stream",
     "text": [
      "epoch: 10, loss: 30.83598231782395:   1%|          | 10/1000 [00:00<00:21, 45.75it/s]"
     ]
    },
    {
     "name": "stdout",
     "output_type": "stream",
     "text": [
      "=========================Validate=========================\n",
      "Epoch: 0, train_loss: 1558.5595832405343, val_loss: 877.2441243309844\n",
      "'=========================================================\n"
     ]
    },
    {
     "name": "stderr",
     "output_type": "stream",
     "text": [
      "epoch: 115, loss: 1.6175570452739767:  11%|█         | 112/1000 [00:01<00:10, 83.09it/s]"
     ]
    },
    {
     "name": "stdout",
     "output_type": "stream",
     "text": [
      "=========================Validate=========================\n",
      "Epoch: 100, train_loss: 1.617632349035164, val_loss: 1.6600972593960204\n",
      "'=========================================================\n"
     ]
    },
    {
     "name": "stderr",
     "output_type": "stream",
     "text": [
      "epoch: 219, loss: 1.629928670748086:  22%|██▏       | 218/1000 [00:02<00:08, 90.69it/s] "
     ]
    },
    {
     "name": "stdout",
     "output_type": "stream",
     "text": [
      "=========================Validate=========================\n",
      "Epoch: 200, train_loss: 1.627164669905432, val_loss: 1.656052641124393\n",
      "'=========================================================\n"
     ]
    },
    {
     "name": "stderr",
     "output_type": "stream",
     "text": [
      "epoch: 319, loss: 1.641965357239037:  32%|███▏      | 318/1000 [00:03<00:08, 78.23it/s] "
     ]
    },
    {
     "name": "stdout",
     "output_type": "stream",
     "text": [
      "=========================Validate=========================\n",
      "Epoch: 300, train_loss: 1.639990500960069, val_loss: 1.6908549519807095\n",
      "'=========================================================\n"
     ]
    },
    {
     "name": "stderr",
     "output_type": "stream",
     "text": [
      "epoch: 419, loss: 1.6509382175385545:  42%|████▏     | 418/1000 [00:04<00:06, 93.66it/s]"
     ]
    },
    {
     "name": "stdout",
     "output_type": "stream",
     "text": [
      "=========================Validate=========================\n",
      "Epoch: 400, train_loss: 1.6493536954633896, val_loss: 1.7021439296402736\n",
      "'=========================================================\n"
     ]
    },
    {
     "name": "stderr",
     "output_type": "stream",
     "text": [
      "epoch: 520, loss: 1.6576334725294644:  52%|█████▏    | 518/1000 [00:06<00:05, 94.60it/s]"
     ]
    },
    {
     "name": "stdout",
     "output_type": "stream",
     "text": [
      "=========================Validate=========================\n",
      "Epoch: 500, train_loss: 1.656380763480867, val_loss: 1.7080085950938106\n",
      "'=========================================================\n"
     ]
    },
    {
     "name": "stderr",
     "output_type": "stream",
     "text": [
      "epoch: 618, loss: 1.662789829270535:  61%|██████▏   | 614/1000 [00:07<00:04, 86.22it/s] "
     ]
    },
    {
     "name": "stdout",
     "output_type": "stream",
     "text": [
      "=========================Validate=========================\n",
      "Epoch: 600, train_loss: 1.6618513933730847, val_loss: 1.7148251330658246\n",
      "'=========================================================\n"
     ]
    },
    {
     "name": "stderr",
     "output_type": "stream",
     "text": [
      "epoch: 719, loss: 1.6668024454365244:  71%|███████▏  | 714/1000 [00:08<00:03, 91.19it/s]"
     ]
    },
    {
     "name": "stdout",
     "output_type": "stream",
     "text": [
      "=========================Validate=========================\n",
      "Epoch: 700, train_loss: 1.6661212104409122, val_loss: 1.7224660763008677\n",
      "'=========================================================\n"
     ]
    },
    {
     "name": "stderr",
     "output_type": "stream",
     "text": [
      "epoch: 818, loss: 1.6693164377409533:  81%|████████▏ | 813/1000 [00:09<00:02, 90.25it/s]"
     ]
    },
    {
     "name": "stdout",
     "output_type": "stream",
     "text": [
      "=========================Validate=========================\n",
      "Epoch: 800, train_loss: 1.6691051930430783, val_loss: 1.7259687607659464\n",
      "'=========================================================\n"
     ]
    },
    {
     "name": "stderr",
     "output_type": "stream",
     "text": [
      "epoch: 918, loss: 1.6715882940569133:  91%|█████████▏| 913/1000 [00:10<00:00, 93.72it/s]"
     ]
    },
    {
     "name": "stdout",
     "output_type": "stream",
     "text": [
      "=========================Validate=========================\n",
      "Epoch: 900, train_loss: 1.6712906495750004, val_loss: 1.7293293200027982\n",
      "'=========================================================\n"
     ]
    },
    {
     "name": "stderr",
     "output_type": "stream",
     "text": [
      "epoch: 999, loss: 1.67277819808819: 100%|██████████| 1000/1000 [00:11<00:00, 87.56it/s] \n"
     ]
    },
    {
     "data": {
      "image/png": "[encoded data removed]",
      "text/plain": [
       "<Figure size 640x480 with 1 Axes>"
      ]
     },
     "metadata": {},
     "output_type": "display_data"
    }
   ],
   "source": [
    "W0 = np.random.random(size=(X.shape[1], )) # 初始权重\n",
    "# W0 = np.random.uniform(-np.sqrt(6. / X.shape[1]), np.sqrt(6. / X.shape[1]), size=(X.shape[1],)) # 使用 Xavier 初始化\n",
    "train(num_epochs=num_epochs, batch_size=batch_size, validate_every=validate_every, W0=W0, \n",
    "      X_train=X_train, Y_train=Y_train, X_test=X_test, Y_test=Y_test)"
   ]
  }
 ],
 "metadata": {
  "kernelspec": {
   "display_name": "Python 3",
   "language": "python",
   "name": "python3"
  },
  "language_info": {
   "codemirror_mode": {
    "name": "ipython",
    "version": 3
   },
   "file_extension": ".py",
   "mimetype": "text/x-python",
   "name": "python",
   "nbconvert_exporter": "python",
   "pygments_lexer": "ipython3",
   "version": "3.11.4"
  },
  "orig_nbformat": 4
 },
 "nbformat": 4,
 "nbformat_minor": 2
}
